{
  "nbformat": 4,
  "nbformat_minor": 0,
  "metadata": {
    "colab": {
      "name": "KMeans.ipynb",
      "provenance": [],
      "collapsed_sections": []
    },
    "kernelspec": {
      "name": "python3",
      "display_name": "Python 3"
    }
  },
  "cells": [
    {
      "cell_type": "markdown",
      "metadata": {
        "id": "D1b4842kvpyr",
        "colab_type": "text"
      },
      "source": [
        "\n",
        "# **<center>Aprendizagem de Máquina**\n",
        "### <center> Algoritmo Kmeans "
      ]
    },
    {
      "cell_type": "markdown",
      "metadata": {
        "id": "95XW-MLBu1fw",
        "colab_type": "text"
      },
      "source": [
        "Usando o algoritmo kmeans para agrupar os 8 seguintes exemplos em 3 clusters:\n",
        "\n",
        "    A1 = (2,10), A2 = (2,5), A3 = (8,4), A4 = (5,8), A5 = (7,5), A6 = (6,4), A7 = (1,2), A8 = (4,9)\n",
        "\n",
        "Suponha-se que as sementes iniciais (centros de cada grupo), são: A1, A4 e A7. \n",
        "\n"
      ]
    },
    {
      "cell_type": "markdown",
      "metadata": {
        "id": "qMe7Pw0Inxu-",
        "colab_type": "text"
      },
      "source": [
        "#### Importação das Bibiotecas Utilizadas"
      ]
    },
    {
      "cell_type": "code",
      "metadata": {
        "id": "CLBh-WXuXoYr",
        "colab_type": "code",
        "colab": {}
      },
      "source": [
        "import matplotlib.pyplot as plt\n",
        "import numpy as np\n",
        "from sklearn.cluster import KMeans"
      ],
      "execution_count": 0,
      "outputs": []
    },
    {
      "cell_type": "markdown",
      "metadata": {
        "id": "syNhuEj_nwv-",
        "colab_type": "text"
      },
      "source": [
        "#### Declaração dos pontos na forma de numpy.array"
      ]
    },
    {
      "cell_type": "code",
      "metadata": {
        "id": "LEjmTuMoXsiX",
        "colab_type": "code",
        "colab": {}
      },
      "source": [
        "a = np.array([[2, 10], [2, 5], [8, 4], [5, 8],[7, 5], [6, 4], [1, 2], [4, 9]])\n",
        "seed = np.array([[2, 10], [5, 8], [1, 2]])"
      ],
      "execution_count": 0,
      "outputs": []
    },
    {
      "cell_type": "markdown",
      "metadata": {
        "id": "vVMIETRRnzFd",
        "colab_type": "text"
      },
      "source": [
        "#### Funções de pipeline"
      ]
    },
    {
      "cell_type": "code",
      "metadata": {
        "id": "JvOoRxCsX7Oz",
        "colab_type": "code",
        "colab": {}
      },
      "source": [
        "def plot_cluster(a_array, color, title, subplot):\n",
        "  plt.subplot(subplot)\n",
        "  plt.scatter(a_array[:,0], a_array[:,1], c=color)\n",
        "  plt.title(title)\n",
        "  plt.xlabel(\"x\") \n",
        "  plt.ylabel(\"y\")\n",
        "  plt.xlim(-1,12) \n",
        "  plt.ylim(-1,12)"
      ],
      "execution_count": 0,
      "outputs": []
    },
    {
      "cell_type": "code",
      "metadata": {
        "id": "YHrAHclXaFDH",
        "colab_type": "code",
        "colab": {}
      },
      "source": [
        "def pipeline_clustering(features, clusters, seeds, iter):\n",
        "  km = KMeans(clusters, seeds, max_iter=iter)\n",
        "  model = km.fit(features)\n",
        "  return model"
      ],
      "execution_count": 0,
      "outputs": []
    },
    {
      "cell_type": "markdown",
      "metadata": {
        "id": "SV-7TbXAn0-Y",
        "colab_type": "text"
      },
      "source": [
        "#### Visualização do Conjunto de Dados"
      ]
    },
    {
      "cell_type": "code",
      "metadata": {
        "id": "bvaSQW8YgThS",
        "colab_type": "code",
        "outputId": "4ac7cfa6-1d3f-4a8c-fd94-96794f783ea0",
        "colab": {
          "base_uri": "https://localhost:8080/",
          "height": 295
        }
      },
      "source": [
        "plot_cluster(a, 'blue', 'Conjunto de Dados', 111)"
      ],
      "execution_count": 5,
      "outputs": [
        {
          "output_type": "display_data",
          "data": {
            "image/png": "[encoded data removed]",
            "text/plain": [
              "<Figure size 432x288 with 1 Axes>"
            ]
          },
          "metadata": {
            "tags": []
          }
        }
      ]
    },
    {
      "cell_type": "markdown",
      "metadata": {
        "id": "YR8xXzzZQR-2",
        "colab_type": "text"
      },
      "source": [
        "#### Determinação do número de clusters utilizando o metodo elbow\n",
        "     Usando a medida de inércia que corresponde ao somatório dos erros quadráticos das instâncias de cada cluster."
      ]
    },
    {
      "cell_type": "code",
      "metadata": {
        "id": "1uHSEAgwJHbi",
        "colab_type": "code",
        "colab": {}
      },
      "source": [
        "# k means determine k\n",
        "inercia = []\n",
        "K = range(1,9)\n",
        "for k in K:\n",
        "    kmeanModel = KMeans(n_clusters=k).fit(a)\n",
        "    inercia.append(kmeanModel.inertia_) "
      ],
      "execution_count": 0,
      "outputs": []
    },
    {
      "cell_type": "code",
      "metadata": {
        "id": "4xNetcVGJSvY",
        "colab_type": "code",
        "outputId": "ebc7d5ba-04df-4cd5-cf20-de574f9ef56e",
        "colab": {
          "base_uri": "https://localhost:8080/",
          "height": 295
        }
      },
      "source": [
        "plt.plot(K, inercia, 'x-') \n",
        "plt.xlabel('Valores de k') \n",
        "plt.ylabel('Inercia') \n",
        "plt.title('O metodo Elbow usando Inercia') \n",
        "plt.show() "
      ],
      "execution_count": 8,
      "outputs": [
        {
          "output_type": "display_data",
          "data": {
            "image/png": "[encoded data removed]",
            "text/plain": [
              "<Figure size 432x288 with 1 Axes>"
            ]
          },
          "metadata": {
            "tags": []
          }
        }
      ]
    },
    {
      "cell_type": "code",
      "metadata": {
        "id": "7KjTlPlZOx70",
        "colab_type": "code",
        "colab": {
          "base_uri": "https://localhost:8080/",
          "height": 151
        },
        "outputId": "0f684884-4030-4d92-dfa4-3888c2c5bb90"
      },
      "source": [
        "a = [print(x) for x in inercia]"
      ],
      "execution_count": 10,
      "outputs": [
        {
          "output_type": "stream",
          "text": [
            "100.75\n",
            "51.46666666666667\n",
            "14.333333333333332\n",
            "8.666666666666666\n",
            "3.666666666666667\n",
            "2.0\n",
            "1.0\n",
            "0.0\n"
          ],
          "name": "stdout"
        }
      ]
    },
    {
      "cell_type": "markdown",
      "metadata": {
        "id": "DesTMXtUn2zU",
        "colab_type": "text"
      },
      "source": [
        "#### Treino do Modelo com apenas uma iteração do Algoritmo"
      ]
    },
    {
      "cell_type": "code",
      "metadata": {
        "id": "YKKeW0SAhd3A",
        "colab_type": "code",
        "outputId": "73b1899b-1d2d-4aa8-e57f-958c700b5df5",
        "colab": {
          "base_uri": "https://localhost:8080/",
          "height": 70
        }
      },
      "source": [
        "km_1 = pipeline_clustering(a, 3, seed, 1)"
      ],
      "execution_count": 14,
      "outputs": [
        {
          "output_type": "stream",
          "text": [
            "/usr/local/lib/python3.6/dist-packages/sklearn/cluster/k_means_.py:972: RuntimeWarning: Explicit initial center position passed: performing only one init in k-means instead of n_init=10\n",
            "  return_n_iter=True)\n"
          ],
          "name": "stderr"
        }
      ]
    },
    {
      "cell_type": "markdown",
      "metadata": {
        "id": "O0kzVYE3n7FX",
        "colab_type": "text"
      },
      "source": [
        "#### Centroides formados em uma iteração"
      ]
    },
    {
      "cell_type": "code",
      "metadata": {
        "id": "AJhN2uP1h7Mm",
        "colab_type": "code",
        "outputId": "95be646f-43ae-462f-a4da-5a52ac30d182",
        "colab": {
          "base_uri": "https://localhost:8080/",
          "height": 67
        }
      },
      "source": [
        "centroid_1 = km_1.cluster_centers_\n",
        "print(\"\")\n",
        "print(\"Os centróides encontrados para uma iteração foram: \")\n",
        "\n",
        "for i, _ in enumerate(centroid_1):\n",
        "  print(\" {} - \".format(centroid_1[i]), end=\"\")"
      ],
      "execution_count": 15,
      "outputs": [
        {
          "output_type": "stream",
          "text": [
            "\n",
            "Os centróides encontrados para uma iteração foram: \n",
            " [ 2. 10.] -  [6. 6.] -  [1.5 3.5] - "
          ],
          "name": "stdout"
        }
      ]
    },
    {
      "cell_type": "markdown",
      "metadata": {
        "id": "UOsrwdp8n9j-",
        "colab_type": "text"
      },
      "source": [
        "#### Visualização dos Agrupamentos e Centroides "
      ]
    },
    {
      "cell_type": "code",
      "metadata": {
        "id": "7Rtmkyw6qqpz",
        "colab_type": "code",
        "outputId": "ba8de48b-435b-4e61-e3e5-02caf1311352",
        "colab": {
          "base_uri": "https://localhost:8080/",
          "height": 241
        }
      },
      "source": [
        "plt.figure(figsize=(15, 3))\n",
        "\n",
        "plot_cluster(a, km_1.labels_, \"Agrupamentos para uma Iteração\", 131)\n",
        "\n",
        "plot_cluster(centroid_1, 'red', 'Centroides para uma Iteração', 132)\n",
        "\n",
        "plot_cluster(a, km_1.labels_, \"Visualização dos Agrupamentos e Centroides - Uma Iteração\", 133)\n",
        "plt.scatter(centroid_1[:, 0], centroid_1[:, 1], c='red', s=200, alpha=0.4)\n",
        "plt.show()"
      ],
      "execution_count": 16,
      "outputs": [
        {
          "output_type": "display_data",
          "data": {
            "image/png": "[encoded data removed]",
            "text/plain": [
              "<Figure size 1080x216 with 3 Axes>"
            ]
          },
          "metadata": {
            "tags": []
          }
        }
      ]
    },
    {
      "cell_type": "markdown",
      "metadata": {
        "id": "J1ymoxZUn_DD",
        "colab_type": "text"
      },
      "source": [
        "#### Treinamento do Algoritmo até a Convergencia\n",
        "\n",
        "\n",
        "Parâmetros \n",
        "\n",
        "    n_clusters : 3\n",
        "    init : ndarray (sementes inicias)\n",
        "    max_iter : padrão (300)"
      ]
    },
    {
      "cell_type": "code",
      "metadata": {
        "id": "os1VDYv4LhsO",
        "colab_type": "code",
        "outputId": "64976336-4704-4d90-9620-a0cf1c35535c",
        "colab": {
          "base_uri": "https://localhost:8080/",
          "height": 70
        }
      },
      "source": [
        "km = KMeans(3, init=seed).fit(a)"
      ],
      "execution_count": 17,
      "outputs": [
        {
          "output_type": "stream",
          "text": [
            "/usr/local/lib/python3.6/dist-packages/sklearn/cluster/k_means_.py:972: RuntimeWarning: Explicit initial center position passed: performing only one init in k-means instead of n_init=10\n",
            "  return_n_iter=True)\n"
          ],
          "name": "stderr"
        }
      ]
    },
    {
      "cell_type": "markdown",
      "metadata": {
        "id": "gODlaZGMoAbh",
        "colab_type": "text"
      },
      "source": [
        "#### Centróides Formados "
      ]
    },
    {
      "cell_type": "code",
      "metadata": {
        "id": "lf_L7ffP31eb",
        "colab_type": "code",
        "outputId": "ed08aa11-be42-4890-883d-a12634c894c8",
        "colab": {
          "base_uri": "https://localhost:8080/",
          "height": 84
        }
      },
      "source": [
        "centroid = km.cluster_centers_\n",
        "iterac = km.n_iter_\n",
        "\n",
        "print(\"Foram necessárias {} iterações para o algoritmo convergir.\".format(iterac))\n",
        "print(\"\")\n",
        "print(\"Os centróides encontrados foram: \")\n",
        "\n",
        "for i, _ in enumerate(centroid):\n",
        "  print(\" {} - \".format(centroid[i]), end=\"\")"
      ],
      "execution_count": 18,
      "outputs": [
        {
          "output_type": "stream",
          "text": [
            "Foram necessárias 4 iterações para o algoritmo convergir.\n",
            "\n",
            "Os centróides encontrados foram: \n",
            " [3.66666667 9.        ] -  [7.         4.33333333] -  [1.5 3.5] - "
          ],
          "name": "stdout"
        }
      ]
    },
    {
      "cell_type": "markdown",
      "metadata": {
        "id": "X2UsT97noCuz",
        "colab_type": "text"
      },
      "source": [
        "#### Visualização dos Agrupamentos e Centróides com algoritmo Convergido"
      ]
    },
    {
      "cell_type": "code",
      "metadata": {
        "id": "aFb3XP3A3WIO",
        "colab_type": "code",
        "outputId": "c6c46f31-c789-4e52-fe5e-2f10da941cf5",
        "colab": {
          "base_uri": "https://localhost:8080/",
          "height": 241
        }
      },
      "source": [
        "plt.figure(figsize=(15, 3))\n",
        "\n",
        "plot_cluster(a, km.labels_, \"Agrupamentos até o Algoritmo Convergir\", 131)\n",
        "\n",
        "plot_cluster(centroid, 'red', 'Centróides', 132)\n",
        "\n",
        "plot_cluster(a, km.labels_, \"Agrupamentos e Centróides\", 133)\n",
        "plt.scatter(centroid[:, 0], centroid[:, 1], c='red', s=200, alpha=0.4)\n",
        "\n",
        "plt.show()"
      ],
      "execution_count": 19,
      "outputs": [
        {
          "output_type": "display_data",
          "data": {
            "image/png": "[encoded data removed]",
            "text/plain": [
              "<Figure size 1080x216 with 3 Axes>"
            ]
          },
          "metadata": {
            "tags": []
          }
        }
      ]
    },
    {
      "cell_type": "markdown",
      "metadata": {
        "id": "5-U9iWrzoEEl",
        "colab_type": "text"
      },
      "source": [
        "#### Visualização das Regiões de Fronteira com Diagrama de Voronoi"
      ]
    },
    {
      "cell_type": "code",
      "metadata": {
        "id": "41iJSKVfSSqA",
        "colab_type": "code",
        "colab": {}
      },
      "source": [
        "from scipy.spatial import Voronoi, voronoi_plot_2d\n",
        "vor = Voronoi(centroid)"
      ],
      "execution_count": 0,
      "outputs": []
    },
    {
      "cell_type": "code",
      "metadata": {
        "id": "XNJQjfcQSW97",
        "colab_type": "code",
        "outputId": "b5639b12-678b-4c43-a93d-04c63484d8af",
        "colab": {
          "base_uri": "https://localhost:8080/",
          "height": 349
        }
      },
      "source": [
        "fig = voronoi_plot_2d(vor)\n",
        "plot_cluster(a, km.labels_, \"Agrupamentos e Região de Voronoi\", 111)\n",
        "plt.show()"
      ],
      "execution_count": 21,
      "outputs": [
        {
          "output_type": "stream",
          "text": [
            "/usr/local/lib/python3.6/dist-packages/ipykernel_launcher.py:2: MatplotlibDeprecationWarning: Adding an axes using the same arguments as a previous axes currently reuses the earlier instance.  In a future version, a new instance will always be created and returned.  Meanwhile, this warning can be suppressed, and the future behavior ensured, by passing a unique label to each axes instance.\n",
            "  \n"
          ],
          "name": "stderr"
        },
        {
          "output_type": "display_data",
          "data": {
            "image/png": "[encoded data removed]",
            "text/plain": [
              "<Figure size 432x288 with 1 Axes>"
            ]
          },
          "metadata": {
            "tags": []
          }
        }
      ]
    },
    {
      "cell_type": "markdown",
      "metadata": {
        "id": "IV9uUtxhAUwn",
        "colab_type": "text"
      },
      "source": [
        "Link para o Notebook: https://colab.research.google.com/drive/1oR0SZHLJTWuIslET0jKdoo8SkEO7PR09"
      ]
    }
  ]
}